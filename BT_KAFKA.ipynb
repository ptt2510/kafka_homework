{
  "nbformat": 4,
  "nbformat_minor": 0,
  "metadata": {
    "colab": {
      "provenance": []
    },
    "kernelspec": {
      "name": "python3",
      "display_name": "Python 3"
    },
    "language_info": {
      "name": "python"
    }
  },
  "cells": [
    {
      "cell_type": "code",
      "execution_count": 1,
      "metadata": {
        "colab": {
          "base_uri": "https://localhost:8080/"
        },
        "id": "D3qECd83yVJX",
        "outputId": "10ed76ff-d61e-476b-de8e-9a4e0ffa5dc9"
      },
      "outputs": [
        {
          "output_type": "stream",
          "name": "stdout",
          "text": [
            "Collecting tensorflow-io==0.25.0\n",
            "  Downloading tensorflow_io-0.25.0-cp310-cp310-manylinux_2_12_x86_64.manylinux2010_x86_64.whl (23.4 MB)\n",
            "\u001b[2K     \u001b[90m━━━━━━━━━━━━━━━━━━━━━━━━━━━━━━━━━━━━━━━━\u001b[0m \u001b[32m23.4/23.4 MB\u001b[0m \u001b[31m33.0 MB/s\u001b[0m eta \u001b[36m0:00:00\u001b[0m\n",
            "\u001b[?25hCollecting tensorflow-io-gcs-filesystem==0.25.0 (from tensorflow-io==0.25.0)\n",
            "  Downloading tensorflow_io_gcs_filesystem-0.25.0-cp310-cp310-manylinux_2_12_x86_64.manylinux2010_x86_64.whl (2.1 MB)\n",
            "\u001b[2K     \u001b[90m━━━━━━━━━━━━━━━━━━━━━━━━━━━━━━━━━━━━━━━━\u001b[0m \u001b[32m2.1/2.1 MB\u001b[0m \u001b[31m60.8 MB/s\u001b[0m eta \u001b[36m0:00:00\u001b[0m\n",
            "\u001b[?25hInstalling collected packages: tensorflow-io-gcs-filesystem, tensorflow-io\n",
            "  Attempting uninstall: tensorflow-io-gcs-filesystem\n",
            "    Found existing installation: tensorflow-io-gcs-filesystem 0.34.0\n",
            "    Uninstalling tensorflow-io-gcs-filesystem-0.34.0:\n",
            "      Successfully uninstalled tensorflow-io-gcs-filesystem-0.34.0\n",
            "Successfully installed tensorflow-io-0.25.0 tensorflow-io-gcs-filesystem-0.25.0\n",
            "Collecting kafka-python\n",
            "  Downloading kafka_python-2.0.2-py2.py3-none-any.whl (246 kB)\n",
            "\u001b[2K     \u001b[90m━━━━━━━━━━━━━━━━━━━━━━━━━━━━━━━━━━━━━━━━\u001b[0m \u001b[32m246.5/246.5 kB\u001b[0m \u001b[31m3.5 MB/s\u001b[0m eta \u001b[36m0:00:00\u001b[0m\n",
            "\u001b[?25hInstalling collected packages: kafka-python\n",
            "Successfully installed kafka-python-2.0.2\n",
            "Collecting tensorflow==2.8.0\n",
            "  Downloading tensorflow-2.8.0-cp310-cp310-manylinux2010_x86_64.whl (497.6 MB)\n",
            "\u001b[2K     \u001b[90m━━━━━━━━━━━━━━━━━━━━━━━━━━━━━━━━━━━━━━━━\u001b[0m \u001b[32m497.6/497.6 MB\u001b[0m \u001b[31m1.5 MB/s\u001b[0m eta \u001b[36m0:00:00\u001b[0m\n",
            "\u001b[?25hRequirement already satisfied: absl-py>=0.4.0 in /usr/local/lib/python3.10/dist-packages (from tensorflow==2.8.0) (1.4.0)\n",
            "Requirement already satisfied: astunparse>=1.6.0 in /usr/local/lib/python3.10/dist-packages (from tensorflow==2.8.0) (1.6.3)\n",
            "Requirement already satisfied: flatbuffers>=1.12 in /usr/local/lib/python3.10/dist-packages (from tensorflow==2.8.0) (23.5.26)\n",
            "Requirement already satisfied: gast>=0.2.1 in /usr/local/lib/python3.10/dist-packages (from tensorflow==2.8.0) (0.5.4)\n",
            "Requirement already satisfied: google-pasta>=0.1.1 in /usr/local/lib/python3.10/dist-packages (from tensorflow==2.8.0) (0.2.0)\n",
            "Requirement already satisfied: h5py>=2.9.0 in /usr/local/lib/python3.10/dist-packages (from tensorflow==2.8.0) (3.9.0)\n",
            "Collecting keras-preprocessing>=1.1.1 (from tensorflow==2.8.0)\n",
            "  Downloading Keras_Preprocessing-1.1.2-py2.py3-none-any.whl (42 kB)\n",
            "\u001b[2K     \u001b[90m━━━━━━━━━━━━━━━━━━━━━━━━━━━━━━━━━━━━━━━━\u001b[0m \u001b[32m42.6/42.6 kB\u001b[0m \u001b[31m7.0 MB/s\u001b[0m eta \u001b[36m0:00:00\u001b[0m\n",
            "\u001b[?25hRequirement already satisfied: libclang>=9.0.1 in /usr/local/lib/python3.10/dist-packages (from tensorflow==2.8.0) (16.0.6)\n",
            "Requirement already satisfied: numpy>=1.20 in /usr/local/lib/python3.10/dist-packages (from tensorflow==2.8.0) (1.23.5)\n",
            "Requirement already satisfied: opt-einsum>=2.3.2 in /usr/local/lib/python3.10/dist-packages (from tensorflow==2.8.0) (3.3.0)\n",
            "Requirement already satisfied: protobuf>=3.9.2 in /usr/local/lib/python3.10/dist-packages (from tensorflow==2.8.0) (3.20.3)\n",
            "Requirement already satisfied: setuptools in /usr/local/lib/python3.10/dist-packages (from tensorflow==2.8.0) (67.7.2)\n",
            "Requirement already satisfied: six>=1.12.0 in /usr/local/lib/python3.10/dist-packages (from tensorflow==2.8.0) (1.16.0)\n",
            "Requirement already satisfied: termcolor>=1.1.0 in /usr/local/lib/python3.10/dist-packages (from tensorflow==2.8.0) (2.4.0)\n",
            "Requirement already satisfied: typing-extensions>=3.6.6 in /usr/local/lib/python3.10/dist-packages (from tensorflow==2.8.0) (4.5.0)\n",
            "Requirement already satisfied: wrapt>=1.11.0 in /usr/local/lib/python3.10/dist-packages (from tensorflow==2.8.0) (1.14.1)\n",
            "Collecting tensorboard<2.9,>=2.8 (from tensorflow==2.8.0)\n",
            "  Downloading tensorboard-2.8.0-py3-none-any.whl (5.8 MB)\n",
            "\u001b[2K     \u001b[90m━━━━━━━━━━━━━━━━━━━━━━━━━━━━━━━━━━━━━━━━\u001b[0m \u001b[32m5.8/5.8 MB\u001b[0m \u001b[31m92.5 MB/s\u001b[0m eta \u001b[36m0:00:00\u001b[0m\n",
            "\u001b[?25hCollecting tf-estimator-nightly==2.8.0.dev2021122109 (from tensorflow==2.8.0)\n",
            "  Downloading tf_estimator_nightly-2.8.0.dev2021122109-py2.py3-none-any.whl (462 kB)\n",
            "\u001b[2K     \u001b[90m━━━━━━━━━━━━━━━━━━━━━━━━━━━━━━━━━━━━━━━━\u001b[0m \u001b[32m462.5/462.5 kB\u001b[0m \u001b[31m50.9 MB/s\u001b[0m eta \u001b[36m0:00:00\u001b[0m\n",
            "\u001b[?25hCollecting keras<2.9,>=2.8.0rc0 (from tensorflow==2.8.0)\n",
            "  Downloading keras-2.8.0-py2.py3-none-any.whl (1.4 MB)\n",
            "\u001b[2K     \u001b[90m━━━━━━━━━━━━━━━━━━━━━━━━━━━━━━━━━━━━━━━━\u001b[0m \u001b[32m1.4/1.4 MB\u001b[0m \u001b[31m72.2 MB/s\u001b[0m eta \u001b[36m0:00:00\u001b[0m\n",
            "\u001b[?25hRequirement already satisfied: tensorflow-io-gcs-filesystem>=0.23.1 in /usr/local/lib/python3.10/dist-packages (from tensorflow==2.8.0) (0.25.0)\n",
            "Requirement already satisfied: grpcio<2.0,>=1.24.3 in /usr/local/lib/python3.10/dist-packages (from tensorflow==2.8.0) (1.60.0)\n",
            "Requirement already satisfied: wheel<1.0,>=0.23.0 in /usr/local/lib/python3.10/dist-packages (from astunparse>=1.6.0->tensorflow==2.8.0) (0.42.0)\n",
            "Requirement already satisfied: google-auth<3,>=1.6.3 in /usr/local/lib/python3.10/dist-packages (from tensorboard<2.9,>=2.8->tensorflow==2.8.0) (2.17.3)\n",
            "Collecting google-auth-oauthlib<0.5,>=0.4.1 (from tensorboard<2.9,>=2.8->tensorflow==2.8.0)\n",
            "  Downloading google_auth_oauthlib-0.4.6-py2.py3-none-any.whl (18 kB)\n",
            "Requirement already satisfied: markdown>=2.6.8 in /usr/local/lib/python3.10/dist-packages (from tensorboard<2.9,>=2.8->tensorflow==2.8.0) (3.5.1)\n",
            "Requirement already satisfied: requests<3,>=2.21.0 in /usr/local/lib/python3.10/dist-packages (from tensorboard<2.9,>=2.8->tensorflow==2.8.0) (2.31.0)\n",
            "Collecting tensorboard-data-server<0.7.0,>=0.6.0 (from tensorboard<2.9,>=2.8->tensorflow==2.8.0)\n",
            "  Downloading tensorboard_data_server-0.6.1-py3-none-manylinux2010_x86_64.whl (4.9 MB)\n",
            "\u001b[2K     \u001b[90m━━━━━━━━━━━━━━━━━━━━━━━━━━━━━━━━━━━━━━━━\u001b[0m \u001b[32m4.9/4.9 MB\u001b[0m \u001b[31m57.4 MB/s\u001b[0m eta \u001b[36m0:00:00\u001b[0m\n",
            "\u001b[?25hCollecting tensorboard-plugin-wit>=1.6.0 (from tensorboard<2.9,>=2.8->tensorflow==2.8.0)\n",
            "  Downloading tensorboard_plugin_wit-1.8.1-py3-none-any.whl (781 kB)\n",
            "\u001b[2K     \u001b[90m━━━━━━━━━━━━━━━━━━━━━━━━━━━━━━━━━━━━━━━━\u001b[0m \u001b[32m781.3/781.3 kB\u001b[0m \u001b[31m64.4 MB/s\u001b[0m eta \u001b[36m0:00:00\u001b[0m\n",
            "\u001b[?25hRequirement already satisfied: werkzeug>=0.11.15 in /usr/local/lib/python3.10/dist-packages (from tensorboard<2.9,>=2.8->tensorflow==2.8.0) (3.0.1)\n",
            "Requirement already satisfied: cachetools<6.0,>=2.0.0 in /usr/local/lib/python3.10/dist-packages (from google-auth<3,>=1.6.3->tensorboard<2.9,>=2.8->tensorflow==2.8.0) (5.3.2)\n",
            "Requirement already satisfied: pyasn1-modules>=0.2.1 in /usr/local/lib/python3.10/dist-packages (from google-auth<3,>=1.6.3->tensorboard<2.9,>=2.8->tensorflow==2.8.0) (0.3.0)\n",
            "Requirement already satisfied: rsa<5,>=3.1.4 in /usr/local/lib/python3.10/dist-packages (from google-auth<3,>=1.6.3->tensorboard<2.9,>=2.8->tensorflow==2.8.0) (4.9)\n",
            "Requirement already satisfied: requests-oauthlib>=0.7.0 in /usr/local/lib/python3.10/dist-packages (from google-auth-oauthlib<0.5,>=0.4.1->tensorboard<2.9,>=2.8->tensorflow==2.8.0) (1.3.1)\n",
            "Requirement already satisfied: charset-normalizer<4,>=2 in /usr/local/lib/python3.10/dist-packages (from requests<3,>=2.21.0->tensorboard<2.9,>=2.8->tensorflow==2.8.0) (3.3.2)\n",
            "Requirement already satisfied: idna<4,>=2.5 in /usr/local/lib/python3.10/dist-packages (from requests<3,>=2.21.0->tensorboard<2.9,>=2.8->tensorflow==2.8.0) (3.6)\n",
            "Requirement already satisfied: urllib3<3,>=1.21.1 in /usr/local/lib/python3.10/dist-packages (from requests<3,>=2.21.0->tensorboard<2.9,>=2.8->tensorflow==2.8.0) (2.0.7)\n",
            "Requirement already satisfied: certifi>=2017.4.17 in /usr/local/lib/python3.10/dist-packages (from requests<3,>=2.21.0->tensorboard<2.9,>=2.8->tensorflow==2.8.0) (2023.11.17)\n",
            "Requirement already satisfied: MarkupSafe>=2.1.1 in /usr/local/lib/python3.10/dist-packages (from werkzeug>=0.11.15->tensorboard<2.9,>=2.8->tensorflow==2.8.0) (2.1.3)\n",
            "Requirement already satisfied: pyasn1<0.6.0,>=0.4.6 in /usr/local/lib/python3.10/dist-packages (from pyasn1-modules>=0.2.1->google-auth<3,>=1.6.3->tensorboard<2.9,>=2.8->tensorflow==2.8.0) (0.5.1)\n",
            "Requirement already satisfied: oauthlib>=3.0.0 in /usr/local/lib/python3.10/dist-packages (from requests-oauthlib>=0.7.0->google-auth-oauthlib<0.5,>=0.4.1->tensorboard<2.9,>=2.8->tensorflow==2.8.0) (3.2.2)\n",
            "Installing collected packages: tf-estimator-nightly, tensorboard-plugin-wit, keras, tensorboard-data-server, keras-preprocessing, google-auth-oauthlib, tensorboard, tensorflow\n",
            "  Attempting uninstall: keras\n",
            "    Found existing installation: keras 2.15.0\n",
            "    Uninstalling keras-2.15.0:\n",
            "      Successfully uninstalled keras-2.15.0\n",
            "  Attempting uninstall: tensorboard-data-server\n",
            "    Found existing installation: tensorboard-data-server 0.7.2\n",
            "    Uninstalling tensorboard-data-server-0.7.2:\n",
            "      Successfully uninstalled tensorboard-data-server-0.7.2\n",
            "  Attempting uninstall: google-auth-oauthlib\n",
            "    Found existing installation: google-auth-oauthlib 1.2.0\n",
            "    Uninstalling google-auth-oauthlib-1.2.0:\n",
            "      Successfully uninstalled google-auth-oauthlib-1.2.0\n",
            "  Attempting uninstall: tensorboard\n",
            "    Found existing installation: tensorboard 2.15.1\n",
            "    Uninstalling tensorboard-2.15.1:\n",
            "      Successfully uninstalled tensorboard-2.15.1\n",
            "  Attempting uninstall: tensorflow\n",
            "    Found existing installation: tensorflow 2.15.0\n",
            "    Uninstalling tensorflow-2.15.0:\n",
            "      Successfully uninstalled tensorflow-2.15.0\n",
            "\u001b[31mERROR: pip's dependency resolver does not currently take into account all the packages that are installed. This behaviour is the source of the following dependency conflicts.\n",
            "pandas-gbq 0.19.2 requires google-auth-oauthlib>=0.7.0, but you have google-auth-oauthlib 0.4.6 which is incompatible.\u001b[0m\u001b[31m\n",
            "\u001b[0mSuccessfully installed google-auth-oauthlib-0.4.6 keras-2.8.0 keras-preprocessing-1.1.2 tensorboard-2.8.0 tensorboard-data-server-0.6.1 tensorboard-plugin-wit-1.8.1 tensorflow-2.8.0 tf-estimator-nightly-2.8.0.dev2021122109\n"
          ]
        }
      ],
      "source": [
        "!pip install tensorflow-io==0.25.0\n",
        "!pip install kafka-python\n",
        "!pip install tensorflow==2.8.0"
      ]
    },
    {
      "cell_type": "code",
      "source": [
        "import os\n",
        "from datetime import datetime\n",
        "import time\n",
        "import threading\n",
        "import json\n",
        "from kafka import KafkaProducer\n",
        "from kafka.errors import KafkaError\n",
        "from sklearn.model_selection import train_test_split\n",
        "import pandas as pd\n",
        "import tensorflow as tf\n",
        "import tensorflow_io as tfio"
      ],
      "metadata": {
        "id": "IxUgMjx5y4Ip"
      },
      "execution_count": 2,
      "outputs": []
    },
    {
      "cell_type": "code",
      "source": [
        "print(\"tensorflow-io version: {}\".format(tfio.__version__))\n",
        "print(\"tensorflow version: {}\".format(tf.__version__))"
      ],
      "metadata": {
        "colab": {
          "base_uri": "https://localhost:8080/"
        },
        "id": "dZDkMp9wzIaA",
        "outputId": "9079da11-7edc-4e48-c2f4-43954252839f"
      },
      "execution_count": 3,
      "outputs": [
        {
          "output_type": "stream",
          "name": "stdout",
          "text": [
            "tensorflow-io version: 0.25.0\n",
            "tensorflow version: 2.8.0\n"
          ]
        }
      ]
    },
    {
      "cell_type": "code",
      "source": [
        "!curl -sSOL https://downloads.apache.org/kafka/3.6.1/kafka_2.13-3.6.1.tgz\n",
        "!tar -xzf kafka_2.13-3.6.1.tgz"
      ],
      "metadata": {
        "id": "4WHxgrWlzNNf"
      },
      "execution_count": 4,
      "outputs": []
    },
    {
      "cell_type": "code",
      "source": [
        "!./kafka_2.13-3.6.1/bin/zookeeper-server-start.sh -daemon ./kafka_2.13-3.6.1/config/zookeeper.properties\n",
        "!./kafka_2.13-3.6.1/bin/kafka-server-start.sh -daemon ./kafka_2.13-3.6.1/config/server.properties\n",
        "!echo \"Waiting for 10 secs until kafka and zookeeper services are up and running\"\n",
        "!sleep 10\n"
      ],
      "metadata": {
        "colab": {
          "base_uri": "https://localhost:8080/"
        },
        "id": "hAtNjrb2zPZH",
        "outputId": "0041fa58-ac20-47bb-d09d-bc3be98d5b25"
      },
      "execution_count": 5,
      "outputs": [
        {
          "output_type": "stream",
          "name": "stdout",
          "text": [
            "Waiting for 10 secs until kafka and zookeeper services are up and running\n"
          ]
        }
      ]
    },
    {
      "cell_type": "code",
      "source": [
        "!ps -ef | grep kafka"
      ],
      "metadata": {
        "colab": {
          "base_uri": "https://localhost:8080/"
        },
        "id": "h3BPHv_mzTJB",
        "outputId": "4ad413ff-a0c0-42e1-bdd3-563440958e8e"
      },
      "execution_count": 6,
      "outputs": [
        {
          "output_type": "stream",
          "name": "stdout",
          "text": [
            "root        2184     357  0 15:11 ?        00:00:00 /bin/bash -c ps -ef | grep kafka\n",
            "root        2186    2184  0 15:11 ?        00:00:00 grep kafka\n"
          ]
        }
      ]
    },
    {
      "cell_type": "code",
      "source": [
        "!./kafka_2.13-3.6.1/bin/kafka-topics.sh --create --bootstrap-server 127.0.0.1:9092 --replication-factor 1 --partitions 1 --topic bigmartsale4-train\n",
        "!./kafka_2.13-3.6.1/bin/kafka-topics.sh --create --bootstrap-server 127.0.0.1:9092 --replication-factor 1 --partitions 2 --topic bigmartsale4-test\n"
      ],
      "metadata": {
        "colab": {
          "base_uri": "https://localhost:8080/"
        },
        "id": "txUEwlokzXaf",
        "outputId": "28e191a8-d63a-4dee-d575-276ae0fe49b3"
      },
      "execution_count": 7,
      "outputs": [
        {
          "output_type": "stream",
          "name": "stdout",
          "text": [
            "Created topic bigmartsale4-train.\n",
            "Created topic bigmartsale4-test.\n"
          ]
        }
      ]
    },
    {
      "cell_type": "code",
      "source": [
        "!./kafka_2.13-3.6.1/bin/kafka-topics.sh --describe --bootstrap-server 127.0.0.1:9092 --topic bigmartsale4-train\n",
        "!./kafka_2.13-3.6.1/bin/kafka-topics.sh --describe --bootstrap-server 127.0.0.1:9092 --topic bigmartsale4-test\n"
      ],
      "metadata": {
        "colab": {
          "base_uri": "https://localhost:8080/"
        },
        "id": "A0T5k6-Wzb5H",
        "outputId": "6d6a17f8-3a08-43e5-ba28-79b2149234a5"
      },
      "execution_count": 9,
      "outputs": [
        {
          "output_type": "stream",
          "name": "stdout",
          "text": [
            "Topic: bigmartsale4-train\tTopicId: UCAVzrngR6iKzfYcZmlM7w\tPartitionCount: 1\tReplicationFactor: 1\tConfigs: \n",
            "\tTopic: bigmartsale4-train\tPartition: 0\tLeader: 0\tReplicas: 0\tIsr: 0\n",
            "Topic: bigmartsale4-test\tTopicId: yVIlUQriQmO0vMgIjLgsww\tPartitionCount: 2\tReplicationFactor: 1\tConfigs: \n",
            "\tTopic: bigmartsale4-test\tPartition: 0\tLeader: 0\tReplicas: 0\tIsr: 0\n",
            "\tTopic: bigmartsale4-test\tPartition: 1\tLeader: 0\tReplicas: 0\tIsr: 0\n"
          ]
        }
      ]
    },
    {
      "cell_type": "code",
      "source": [
        "!pip install pyspark"
      ],
      "metadata": {
        "colab": {
          "base_uri": "https://localhost:8080/"
        },
        "id": "Ipjb8_llz_oG",
        "outputId": "02a024d9-dcfb-49c2-e9e3-c06fe61dade9"
      },
      "execution_count": 10,
      "outputs": [
        {
          "output_type": "stream",
          "name": "stdout",
          "text": [
            "Collecting pyspark\n",
            "  Downloading pyspark-3.5.0.tar.gz (316.9 MB)\n",
            "\u001b[2K     \u001b[90m━━━━━━━━━━━━━━━━━━━━━━━━━━━━━━━━━━━━━━━━\u001b[0m \u001b[32m316.9/316.9 MB\u001b[0m \u001b[31m4.6 MB/s\u001b[0m eta \u001b[36m0:00:00\u001b[0m\n",
            "\u001b[?25h  Preparing metadata (setup.py) ... \u001b[?25l\u001b[?25hdone\n",
            "Requirement already satisfied: py4j==0.10.9.7 in /usr/local/lib/python3.10/dist-packages (from pyspark) (0.10.9.7)\n",
            "Building wheels for collected packages: pyspark\n",
            "  Building wheel for pyspark (setup.py) ... \u001b[?25l\u001b[?25hdone\n",
            "  Created wheel for pyspark: filename=pyspark-3.5.0-py2.py3-none-any.whl size=317425345 sha256=685d195a666da9bd4ad63622526d23bdea7c4185d665f30e692637bab88cd729\n",
            "  Stored in directory: /root/.cache/pip/wheels/41/4e/10/c2cf2467f71c678cfc8a6b9ac9241e5e44a01940da8fbb17fc\n",
            "Successfully built pyspark\n",
            "Installing collected packages: pyspark\n",
            "Successfully installed pyspark-3.5.0\n"
          ]
        }
      ]
    },
    {
      "cell_type": "code",
      "source": [
        "!pip install findspark"
      ],
      "metadata": {
        "colab": {
          "base_uri": "https://localhost:8080/"
        },
        "id": "EvKcFkqD0hAO",
        "outputId": "47bf9257-e844-4991-b030-28b4edf4a527"
      },
      "execution_count": 11,
      "outputs": [
        {
          "output_type": "stream",
          "name": "stdout",
          "text": [
            "Collecting findspark\n",
            "  Downloading findspark-2.0.1-py2.py3-none-any.whl (4.4 kB)\n",
            "Installing collected packages: findspark\n",
            "Successfully installed findspark-2.0.1\n"
          ]
        }
      ]
    },
    {
      "cell_type": "code",
      "source": [
        "import pyspark\n",
        "import findspark\n",
        "findspark.init()\n",
        "from pyspark.sql import SparkSession\n",
        "\n",
        "scala_version = '2.12'  # your scala version\n",
        "spark_version = '3.0.1' # your spark version\n",
        "packages = [\n",
        "    f'org.apache.spark:spark-sql-kafka-0-10_{scala_version}:{spark_version}',\n",
        "    'org.apache.kafka:kafka-clients:2.8.0' #your kafka version\n",
        "]\n",
        "spark = SparkSession.builder.master(\"local\").appName(\"kafka-example\").config(\"spark.jars.packages\", \",\".join(packages)).getOrCreate()\n",
        "spark"
      ],
      "metadata": {
        "colab": {
          "base_uri": "https://localhost:8080/",
          "height": 219
        },
        "id": "2hb_KR7zzvTO",
        "outputId": "b3b31a29-6b14-429c-ceea-38e06f74f514"
      },
      "execution_count": 12,
      "outputs": [
        {
          "output_type": "execute_result",
          "data": {
            "text/plain": [
              "<pyspark.sql.session.SparkSession at 0x7a83b1695c00>"
            ],
            "text/html": [
              "\n",
              "            <div>\n",
              "                <p><b>SparkSession - in-memory</b></p>\n",
              "                \n",
              "        <div>\n",
              "            <p><b>SparkContext</b></p>\n",
              "\n",
              "            <p><a href=\"http://bb62903703e1:4040\">Spark UI</a></p>\n",
              "\n",
              "            <dl>\n",
              "              <dt>Version</dt>\n",
              "                <dd><code>v3.5.0</code></dd>\n",
              "              <dt>Master</dt>\n",
              "                <dd><code>local</code></dd>\n",
              "              <dt>AppName</dt>\n",
              "                <dd><code>kafka-example</code></dd>\n",
              "            </dl>\n",
              "        </div>\n",
              "        \n",
              "            </div>\n",
              "        "
            ]
          },
          "metadata": {},
          "execution_count": 12
        }
      ]
    },
    {
      "cell_type": "code",
      "source": [
        "train=spark.read.csv(r\"/content/drive/MyDrive/BT_KAFKA/Train.csv\", header=True, inferSchema=True)\n"
      ],
      "metadata": {
        "id": "VxbUAHmb0vN-"
      },
      "execution_count": 13,
      "outputs": []
    },
    {
      "cell_type": "code",
      "source": [
        "from pyspark.sql.functions import col,isnan, when, count\n",
        "train.select([count(when(isnan(c) | col(c).isNull(), c)).alias(c) for c in train.columns]\n",
        "   ).show()"
      ],
      "metadata": {
        "colab": {
          "base_uri": "https://localhost:8080/"
        },
        "id": "knYLQcrnHFla",
        "outputId": "47bec281-f77d-49cf-eff1-3510c4b4fe5f"
      },
      "execution_count": 14,
      "outputs": [
        {
          "output_type": "stream",
          "name": "stdout",
          "text": [
            "+---------------+-----------+----------------+---------------+---------+--------+-----------------+-------------------------+-----------+--------------------+-----------+-----------------+\n",
            "|Item_Identifier|Item_Weight|Item_Fat_Content|Item_Visibility|Item_Type|Item_MRP|Outlet_Identifier|Outlet_Establishment_Year|Outlet_Size|Outlet_Location_Type|Outlet_Type|Item_Outlet_Sales|\n",
            "+---------------+-----------+----------------+---------------+---------+--------+-----------------+-------------------------+-----------+--------------------+-----------+-----------------+\n",
            "|              0|       1463|               0|              0|        0|       0|                0|                        0|       2410|                   0|          0|                0|\n",
            "+---------------+-----------+----------------+---------------+---------+--------+-----------------+-------------------------+-----------+--------------------+-----------+-----------------+\n",
            "\n"
          ]
        }
      ]
    },
    {
      "cell_type": "code",
      "source": [
        "train=train.na.fill(value=0,subset=[\"Item_Weight\"])"
      ],
      "metadata": {
        "id": "Iq5z87BvKPQ2"
      },
      "execution_count": 15,
      "outputs": []
    },
    {
      "cell_type": "code",
      "source": [
        "features_encode=['Item_Identifier','Item_Fat_Content','Item_Type','Outlet_Identifier','Outlet_Establishment_Year','Outlet_Location_Type','Outlet_Type']"
      ],
      "metadata": {
        "id": "tLRacdny1Q1U"
      },
      "execution_count": 16,
      "outputs": []
    },
    {
      "cell_type": "code",
      "source": [
        "from pyspark.ml import Pipeline\n",
        "from pyspark.ml.feature import StringIndexer\n",
        "indexers = [StringIndexer(inputCol=column, outputCol=column+\"_index\").fit(train) for column in features_encode]\n",
        "pipeline = Pipeline(stages=indexers)\n",
        "data_train = pipeline.fit(train).transform(train)"
      ],
      "metadata": {
        "id": "Ny0ZbZyb28rN"
      },
      "execution_count": 17,
      "outputs": []
    },
    {
      "cell_type": "code",
      "source": [
        "features=['Item_Identifier_index','Item_Weight','Item_Fat_Content_index','Item_Visibility','Item_Type_index','Item_MRP','Outlet_Identifier_index','Outlet_Establishment_Year_index','Outlet_Location_Type_index','Outlet_Type_index']"
      ],
      "metadata": {
        "id": "fUgD_STl3V_8"
      },
      "execution_count": 18,
      "outputs": []
    },
    {
      "cell_type": "code",
      "source": [
        "from pyspark.ml.feature import VectorAssembler\n",
        "from pyspark.ml.feature import StandardScaler\n",
        "vectorAssembler = VectorAssembler(inputCols=features, outputCol=\"unscaled_features\")\n",
        "standardScaler = StandardScaler(inputCol=\"unscaled_features\", outputCol=\"features\")\n",
        "estimators = [vectorAssembler, standardScaler]\n",
        "pipeline = Pipeline(stages=estimators)\n",
        "data = pipeline.fit(data_train).transform(data_train)"
      ],
      "metadata": {
        "id": "kYZb3n4DBPpV"
      },
      "execution_count": 19,
      "outputs": []
    },
    {
      "cell_type": "code",
      "source": [
        "modeldata=data.select('features','Item_Outlet_Sales')"
      ],
      "metadata": {
        "id": "YNg9pwPfJX72"
      },
      "execution_count": 20,
      "outputs": []
    },
    {
      "cell_type": "code",
      "source": [
        "(train_t,test_t)=modeldata.randomSplit([0.8,0.2])"
      ],
      "metadata": {
        "id": "RZyPp4H-fKSN"
      },
      "execution_count": 21,
      "outputs": []
    },
    {
      "cell_type": "code",
      "source": [
        "from pyspark.ml.regression import LinearRegression\n",
        "lr = LinearRegression(featuresCol='features', labelCol='Item_Outlet_Sales',maxIter=10, regParam=0.3, elasticNetParam=0.8)\n",
        "lrr=lr.fit(train_t)"
      ],
      "metadata": {
        "id": "LnldV9f19iKt"
      },
      "execution_count": 22,
      "outputs": []
    },
    {
      "cell_type": "code",
      "source": [
        "y_pred = lrr.transform(test_t)\n",
        "y_pred.show()"
      ],
      "metadata": {
        "colab": {
          "base_uri": "https://localhost:8080/"
        },
        "id": "kd04ZPRBKPqm",
        "outputId": "b7fc30be-edbe-4f78-d572-9ab5eb3e6c17"
      },
      "execution_count": 23,
      "outputs": [
        {
          "output_type": "stream",
          "name": "stdout",
          "text": [
            "+--------------------+-----------------+------------------+\n",
            "|            features|Item_Outlet_Sales|        prediction|\n",
            "+--------------------+-----------------+------------------+\n",
            "|(10,[0,2,3,5,9],[...|        5375.0034| 4859.543644690989|\n",
            "|(10,[0,2,3,5,9],[...|        5087.3778|  4129.28220242423|\n",
            "|(10,[0,2,3,5,9],[...|        4432.2306| 4506.594491351274|\n",
            "|(10,[0,2,3,5,9],[...|        5294.4416| 4017.363108269464|\n",
            "|(10,[0,2,3,5,9],[...|        3374.2744|3129.1718217201073|\n",
            "|(10,[0,2,3,5,9],[...|         966.7416|2570.6121659545693|\n",
            "|(10,[0,2,3,5,9],[...|        5978.2182| 3287.566761792685|\n",
            "|(10,[0,2,3,5,9],[...|           2996.1|3499.9840683402062|\n",
            "|(10,[0,2,3,5,9],[...|        7116.0704| 4707.403944758632|\n",
            "|(10,[0,2,3,5,9],[...|        4828.3816| 3200.927897036621|\n",
            "|(10,[0,2,3,5,9],[...|        1543.3244|1837.8347034671335|\n",
            "|(10,[0,2,3,5,9],[...|           4327.7| 3716.802351384158|\n",
            "|(10,[0,2,3,5,9],[...|        2143.2102|1975.6315582401235|\n",
            "|(10,[0,2,3,5,9],[...|         12117.56| 5004.801386912898|\n",
            "|(10,[0,2,3,5,9],[...|        7094.7648|4162.9550564285155|\n",
            "|(10,[0,2,3,5,9],[...|         1810.976|2674.1586507869106|\n",
            "|(10,[0,2,3,5,9],[...|        1402.1748| 2869.381365222568|\n",
            "|(10,[0,2,4,5,9],[...|         3914.904| 3008.022975092038|\n",
            "|(10,[0,2,4,5,9],[...|        1845.5976|2592.7327711278135|\n",
            "|(10,[0,2,4,5,9],[...|         717.7324|2065.6190869888733|\n",
            "+--------------------+-----------------+------------------+\n",
            "only showing top 20 rows\n",
            "\n"
          ]
        }
      ]
    },
    {
      "cell_type": "code",
      "source": [
        "from pyspark.ml.regression import GBTRegressor\n",
        "gbt = GBTRegressor(featuresCol='features', labelCol='Item_Outlet_Sales',maxIter=10)\n",
        "gbt=gbt.fit(train_t)\n",
        "y_pred = gbt.transform(test_t)\n",
        "y_pred.show()"
      ],
      "metadata": {
        "colab": {
          "base_uri": "https://localhost:8080/"
        },
        "id": "CNmrrQleg5XL",
        "outputId": "451275c5-f128-4fe8-d853-414eb6248ba3"
      },
      "execution_count": 24,
      "outputs": [
        {
          "output_type": "stream",
          "name": "stdout",
          "text": [
            "+--------------------+-----------------+------------------+\n",
            "|            features|Item_Outlet_Sales|        prediction|\n",
            "+--------------------+-----------------+------------------+\n",
            "|(10,[0,2,3,5,9],[...|        5375.0034| 6692.580995625761|\n",
            "|(10,[0,2,3,5,9],[...|        5087.3778| 6389.477028661729|\n",
            "|(10,[0,2,3,5,9],[...|        4432.2306| 6074.595954785714|\n",
            "|(10,[0,2,3,5,9],[...|        5294.4416| 6389.477028661729|\n",
            "|(10,[0,2,3,5,9],[...|        3374.2744|3250.0161022167576|\n",
            "|(10,[0,2,3,5,9],[...|         966.7416| 2647.765838759359|\n",
            "|(10,[0,2,3,5,9],[...|        5978.2182|4004.6693794682606|\n",
            "|(10,[0,2,3,5,9],[...|           2996.1| 3895.376526785505|\n",
            "|(10,[0,2,3,5,9],[...|        7116.0704| 5593.447293853962|\n",
            "|(10,[0,2,3,5,9],[...|        4828.3816| 3182.400876460216|\n",
            "|(10,[0,2,3,5,9],[...|        1543.3244| 843.0843221075398|\n",
            "|(10,[0,2,3,5,9],[...|           4327.7| 4660.212374869375|\n",
            "|(10,[0,2,3,5,9],[...|        2143.2102|1887.2261328604354|\n",
            "|(10,[0,2,3,5,9],[...|         12117.56| 5655.765714504419|\n",
            "|(10,[0,2,3,5,9],[...|        7094.7648| 5399.959046843544|\n",
            "|(10,[0,2,3,5,9],[...|         1810.976| 3152.211465406223|\n",
            "|(10,[0,2,3,5,9],[...|        1402.1748|2642.0405052179835|\n",
            "|(10,[0,2,4,5,9],[...|         3914.904| 3130.672148708848|\n",
            "|(10,[0,2,4,5,9],[...|        1845.5976|2528.4805124617455|\n",
            "|(10,[0,2,4,5,9],[...|         717.7324|1810.6774916386778|\n",
            "+--------------------+-----------------+------------------+\n",
            "only showing top 20 rows\n",
            "\n"
          ]
        }
      ]
    },
    {
      "cell_type": "code",
      "source": [
        "from pyspark.ml.regression import DecisionTreeRegressor\n",
        "dt = DecisionTreeRegressor(featuresCol='features', labelCol='Item_Outlet_Sales')\n",
        "dt=dt.fit(train_t)\n",
        "y_pred = dt.transform(test_t)\n",
        "y_pred.show()"
      ],
      "metadata": {
        "colab": {
          "base_uri": "https://localhost:8080/"
        },
        "id": "MH890bkHiPx3",
        "outputId": "332f00b9-8753-41be-8da0-1ffce2e6571e"
      },
      "execution_count": 25,
      "outputs": [
        {
          "output_type": "stream",
          "name": "stdout",
          "text": [
            "+--------------------+-----------------+------------------+\n",
            "|            features|Item_Outlet_Sales|        prediction|\n",
            "+--------------------+-----------------+------------------+\n",
            "|(10,[0,2,3,5,9],[...|        5375.0034|6427.9237309090895|\n",
            "|(10,[0,2,3,5,9],[...|        5087.3778|6427.9237309090895|\n",
            "|(10,[0,2,3,5,9],[...|        4432.2306|6427.9237309090895|\n",
            "|(10,[0,2,3,5,9],[...|        5294.4416|6427.9237309090895|\n",
            "|(10,[0,2,3,5,9],[...|        3374.2744|3197.5421867924515|\n",
            "|(10,[0,2,3,5,9],[...|         966.7416| 2652.029966942149|\n",
            "|(10,[0,2,3,5,9],[...|        5978.2182|4021.0406519083967|\n",
            "|(10,[0,2,3,5,9],[...|           2996.1|4021.0406519083967|\n",
            "|(10,[0,2,3,5,9],[...|        7116.0704| 5497.020914838708|\n",
            "|(10,[0,2,3,5,9],[...|        4828.3816|3197.5421867924515|\n",
            "|(10,[0,2,3,5,9],[...|        1543.3244|1025.0425217391305|\n",
            "|(10,[0,2,3,5,9],[...|           4327.7| 4696.366776000001|\n",
            "|(10,[0,2,3,5,9],[...|        2143.2102|1890.6442263157894|\n",
            "|(10,[0,2,3,5,9],[...|         12117.56| 5497.020914838708|\n",
            "|(10,[0,2,3,5,9],[...|        7094.7648| 5497.020914838708|\n",
            "|(10,[0,2,3,5,9],[...|         1810.976| 2652.029966942149|\n",
            "|(10,[0,2,3,5,9],[...|        1402.1748| 2652.029966942149|\n",
            "|(10,[0,2,4,5,9],[...|         3914.904|3197.5421867924515|\n",
            "|(10,[0,2,4,5,9],[...|        1845.5976| 2652.029966942149|\n",
            "|(10,[0,2,4,5,9],[...|         717.7324|1890.6442263157894|\n",
            "+--------------------+-----------------+------------------+\n",
            "only showing top 20 rows\n",
            "\n"
          ]
        }
      ]
    },
    {
      "cell_type": "code",
      "source": [
        "import numpy as np\n",
        "from json import dumps\n",
        "kafka_server=\"127.0.0.1:9092\"\n",
        "producer = KafkaProducer(bootstrap_servers=kafka_server,value_serializer = lambda x:dumps(x).encode('utf-8'))\n"
      ],
      "metadata": {
        "id": "Is8cQVw4fab1"
      },
      "execution_count": 26,
      "outputs": []
    },
    {
      "cell_type": "code",
      "source": [
        "test=pd.read_csv('/content/drive/MyDrive/BT_KAFKA/Test.csv')\n",
        "test=test.drop('Outlet_Size',axis=1)"
      ],
      "metadata": {
        "id": "5b1Ft-bakpPM"
      },
      "execution_count": 27,
      "outputs": []
    },
    {
      "cell_type": "code",
      "source": [
        "test=np.array(test)\n",
        "topic_name=\"bigmartsale4-test\"\n",
        "for i in test:\n",
        "  a=np.array2string(i, precision=8, separator=',',\n",
        "                      suppress_small=True)\n",
        "  a=a.replace('\\n','')\n",
        "  producer.send(topic_name, value=a)"
      ],
      "metadata": {
        "id": "neZb2UebwwA8"
      },
      "execution_count": 28,
      "outputs": []
    },
    {
      "cell_type": "code",
      "source": [
        "kafkaDf = spark.read.format(\"kafka\").option(\"kafka.bootstrap.servers\", kafka_server).option(\"subscribe\", topic_name).option(\"startingOffsets\", \"earliest\").option(\"max.poll.interval.ms\", 300000).load()\n",
        "from time import sleep\n",
        "from IPython.display import display, clear_output\n",
        "import pyspark.sql.functions as f\n",
        "batchDF = kafkaDf.selectExpr(\"cast(value as string) as value\")\n",
        "from pyspark.sql.functions import split, col,substring,regexp_replace\n",
        "batchDF=batchDF.select(\"value\", f.translate(f.col(\"value\"), '\"[', \"\").alias(\"values\"))\n",
        "batchDF=batchDF.select(\"values\", f.translate(f.col(\"values\"), 'nan', \"0\").alias(\"valuess\"))\n",
        "test = batchDF.withColumn('Item_Identifier', split(batchDF['valuess'], ',').getItem(0))\\\n",
        "                .withColumn(\"Item_Weight\", split(batchDF['valuess'], ',').getItem(1).cast('float'))\\\n",
        "                .withColumn(\"Item_Fat_Content\", split(batchDF['valuess'], ',').getItem(2))\\\n",
        "                .withColumn(\"Item_Visibility\", split(batchDF['valuess'], ',').getItem(3).cast('float'))\\\n",
        "                .withColumn(\"Item_Type\", split(batchDF['valuess'], ',').getItem(4))\\\n",
        "                .withColumn(\"Item_MRP\", split(batchDF['valuess'], ',').getItem(5).cast('float'))\\\n",
        "                .withColumn(\"Outlet_Identifier\", split(batchDF['valuess'], ',').getItem(6))\\\n",
        "                .withColumn(\"Outlet_Establishment_Year\", split(batchDF['valuess'], ',').getItem(7))\\\n",
        "                .withColumn(\"Outlet_Location_Type\", split(batchDF['valuess'], ',').getItem(8))\\\n",
        "                .withColumn(\"Outlet_Type\", split(batchDF['valuess'], ',').getItem(9))\n",
        "test=test.drop('values','valuess')"
      ],
      "metadata": {
        "id": "WmA6-K1Ds6mr"
      },
      "execution_count": 30,
      "outputs": []
    },
    {
      "cell_type": "code",
      "source": [
        "test.show()"
      ],
      "metadata": {
        "colab": {
          "base_uri": "https://localhost:8080/"
        },
        "id": "IJsV8R6S5bsA",
        "outputId": "10ff7a6e-1476-4bf0-af7c-f4b5335fd82e"
      },
      "execution_count": 31,
      "outputs": [
        {
          "output_type": "stream",
          "name": "stdout",
          "text": [
            "+---------------+-----------+----------------+---------------+--------------------+--------+-----------------+-------------------------+--------------------+--------------------+\n",
            "|Item_Identifier|Item_Weight|Item_Fat_Content|Item_Visibility|           Item_Type|Item_MRP|Outlet_Identifier|Outlet_Establishment_Year|Outlet_Location_Type|         Outlet_Type|\n",
            "+---------------+-----------+----------------+---------------+--------------------+--------+-----------------+-------------------------+--------------------+--------------------+\n",
            "|        'FDY38'|        0.0|        'Regulr'|     0.11859931|              'Diry'|  234.23|         'OUT027'|                     1985|            'Tier 3'| 'Supermrket Type3']|\n",
            "|        'FDH56'|        9.8|        'Regulr'|      0.0638172|'Fruits 0d Vegetb...|117.1492|         'OUT046'|                     1997|            'Tier 1'| 'Supermrket Type1']|\n",
            "|        'FDC48'|        0.0|        'Low Ft'|    0.015782494|       'Bki0g Goods'| 81.0592|         'OUT027'|                     1985|            'Tier 3'| 'Supermrket Type3']|\n",
            "|        'FDN33'|      6.305|        'Regulr'|     0.12336545|        'S0ck Foods'| 95.7436|         'OUT045'|                     2002|            'Tier 2'| 'Supermrket Type1']|\n",
            "|        'FDQ56'|       6.59|        'Low Ft'|     0.10581147|'Fruits 0d Vegetb...| 85.3908|         'OUT045'|                     2002|            'Tier 2'| 'Supermrket Type1']|\n",
            "|        'NCC54'|        0.0|        'Low Ft'|     0.17107922|  'Helth 0d Hygie0e'|240.4196|         'OUT019'|                     1985|            'Tier 1'|    'Grocery Store']|\n",
            "|        'DRL59'|      16.75|            'LF'|    0.021206465|        'Hrd Dri0ks'| 52.0298|         'OUT013'|                     1987|            'Tier 3'| 'Supermrket Type1']|\n",
            "|        'FDM24'|      6.135|        'Regulr'|      0.0794507|       'Bki0g Goods'|151.6366|         'OUT049'|                     1999|            'Tier 1'| 'Supermrket Type1']|\n",
            "|        'FDI57'|      19.85|        'Low Ft'|     0.05413521|            'Sefood'|198.7768|         'OUT045'|                     2002|            'Tier 2'| 'Supermrket Type1']|\n",
            "|        'FDA46'|       13.6|        'Low Ft'|     0.19689764|        'S0ck Foods'|193.7136|         'OUT010'|                     1998|            'Tier 3'|    'Grocery Store']|\n",
            "|        'NCJ31'|       19.2|        'Low Ft'|     0.18261923|            'Others'|239.9196|         'OUT035'|                     2004|            'Tier 2'| 'Supermrket Type1']|\n",
            "|        'FDG52'|      13.65|            'LF'|    0.065630846|      'Froze0 Foods'| 47.7402|         'OUT046'|                     1997|            'Tier 1'| 'Supermrket Type1']|\n",
            "|        'NCL19'|        0.0|        'Low Ft'|    0.027447058|            'Others'| 142.347|         'OUT019'|                     1985|            'Tier 1'|    'Grocery Store']|\n",
            "|        'FDX22'|      6.785|        'Regulr'|    0.038455125|        'S0ck Foods'|209.4928|         'OUT010'|                     1998|            'Tier 3'|    'Grocery Store']|\n",
            "|        'NCF19'|       13.0|        'Low Ft'|    0.035102095|         'Household'| 47.6034|         'OUT035'|                     2004|            'Tier 2'| 'Supermrket Type1']|\n",
            "|        'DRC27'|       13.8|        'Low Ft'|     0.05810247|              'Diry'|244.6802|         'OUT046'|                     1997|            'Tier 1'| 'Supermrket Type1']|\n",
            "|        'NCR42'|        0.0|        'Low Ft'|     0.06737681|         'Household'|   32.09|         'OUT019'|                     1985|            'Tier 1'|    'Grocery Store']|\n",
            "|        'FDU59'|       5.78|        'Low Ft'|     0.09693143|             'Breds'|164.2552|         'OUT017'|                     2007|            'Tier 2'| 'Supermrket Type1']|\n",
            "|        'FDR03'|        0.0|        'Regulr'|    0.008693632|               'Met'| 205.098|         'OUT027'|                     1985|            'Tier 3'| 'Supermrket Type3']|\n",
            "|        'FDS49'|        0.0|        'Low Ft'|     0.07896128|             'C00ed'| 80.3644|         'OUT027'|                     1985|            'Tier 3'| 'Supermrket Type3']|\n",
            "+---------------+-----------+----------------+---------------+--------------------+--------+-----------------+-------------------------+--------------------+--------------------+\n",
            "only showing top 20 rows\n",
            "\n"
          ]
        }
      ]
    },
    {
      "cell_type": "code",
      "source": [
        "from pyspark.ml import Pipeline\n",
        "from pyspark.ml.feature import StringIndexer\n",
        "indexers = [StringIndexer(inputCol=column, outputCol=column+\"_index\").fit(test) for column in features_encode]\n",
        "pipeline = Pipeline(stages=indexers)\n",
        "data_test = pipeline.fit(test).transform(test)"
      ],
      "metadata": {
        "id": "8l98ECDp1NK9"
      },
      "execution_count": 32,
      "outputs": []
    },
    {
      "cell_type": "code",
      "source": [
        "data_test.show()"
      ],
      "metadata": {
        "colab": {
          "base_uri": "https://localhost:8080/"
        },
        "id": "vvcD8SJ447oc",
        "outputId": "d3183622-45d0-40ad-f4b9-ae7f6dd96a95"
      },
      "execution_count": 33,
      "outputs": [
        {
          "output_type": "stream",
          "name": "stdout",
          "text": [
            "+---------------+-----------+----------------+---------------+--------------------+--------+-----------------+-------------------------+--------------------+--------------------+---------------------+----------------------+---------------+-----------------------+-------------------------------+--------------------------+-----------------+\n",
            "|Item_Identifier|Item_Weight|Item_Fat_Content|Item_Visibility|           Item_Type|Item_MRP|Outlet_Identifier|Outlet_Establishment_Year|Outlet_Location_Type|         Outlet_Type|Item_Identifier_index|Item_Fat_Content_index|Item_Type_index|Outlet_Identifier_index|Outlet_Establishment_Year_index|Outlet_Location_Type_index|Outlet_Type_index|\n",
            "+---------------+-----------+----------------+---------------+--------------------+--------+-----------------+-------------------------+--------------------+--------------------+---------------------+----------------------+---------------+-----------------------+-------------------------------+--------------------------+-----------------+\n",
            "|        'FDY38'|        0.0|        'Regulr'|     0.11859931|              'Diry'|  234.23|         'OUT027'|                     1985|            'Tier 3'| 'Supermrket Type3']|                730.0|                   1.0|            4.0|                    0.0|                            0.0|                       3.0|              5.0|\n",
            "|        'FDH56'|        9.8|        'Regulr'|      0.0638172|'Fruits 0d Vegetb...|117.1492|         'OUT046'|                     1997|            'Tier 1'| 'Supermrket Type1']|                952.0|                   1.0|            1.0|                   10.0|                            4.0|                       5.0|              0.0|\n",
            "|        'FDC48'|        0.0|        'Low Ft'|    0.015782494|       'Bki0g Goods'| 81.0592|         'OUT027'|                     1985|            'Tier 3'| 'Supermrket Type3']|                202.0|                   0.0|            5.0|                    0.0|                            0.0|                       0.0|              4.0|\n",
            "|        'FDN33'|      6.305|        'Regulr'|     0.12336545|        'S0ck Foods'| 95.7436|         'OUT045'|                     2002|            'Tier 2'| 'Supermrket Type1']|                603.0|                   1.0|            0.0|                    3.0|                            5.0|                       1.0|              0.0|\n",
            "|        'FDQ56'|       6.59|        'Low Ft'|     0.10581147|'Fruits 0d Vegetb...| 85.3908|         'OUT045'|                     2002|            'Tier 2'| 'Supermrket Type1']|               1331.0|                   0.0|            1.0|                   15.0|                            5.0|                       4.0|              0.0|\n",
            "|        'NCC54'|        0.0|        'Low Ft'|     0.17107922|  'Helth 0d Hygie0e'|240.4196|         'OUT019'|                     1985|            'Tier 1'|    'Grocery Store']|                755.0|                   0.0|            7.0|                    9.0|                            9.0|                       5.0|              1.0|\n",
            "|        'DRL59'|      16.75|            'LF'|    0.021206465|        'Hrd Dri0ks'| 52.0298|         'OUT013'|                     1987|            'Tier 3'| 'Supermrket Type1']|                 10.0|                   2.0|           11.0|                    1.0|                            1.0|                       0.0|              0.0|\n",
            "|        'FDM24'|      6.135|        'Regulr'|      0.0794507|       'Bki0g Goods'|151.6366|         'OUT049'|                     1999|            'Tier 1'| 'Supermrket Type1']|                592.0|                   1.0|            5.0|                    2.0|                            6.0|                       2.0|              0.0|\n",
            "|        'FDI57'|      19.85|        'Low Ft'|     0.05413521|            'Sefood'|198.7768|         'OUT045'|                     2002|            'Tier 2'| 'Supermrket Type1']|               1481.0|                   0.0|           15.0|                    3.0|                            5.0|                       1.0|              0.0|\n",
            "|        'FDA46'|       13.6|        'Low Ft'|     0.19689764|        'S0ck Foods'|193.7136|         'OUT010'|                     1998|            'Tier 3'|    'Grocery Store']|                877.0|                   0.0|            0.0|                    8.0|                            8.0|                       0.0|              1.0|\n",
            "|        'NCJ31'|       19.2|        'Low Ft'|     0.18261923|            'Others'|239.9196|         'OUT035'|                     2004|            'Tier 2'| 'Supermrket Type1']|                770.0|                   0.0|           13.0|                    4.0|                            7.0|                       1.0|              0.0|\n",
            "|        'FDG52'|      13.65|            'LF'|    0.065630846|      'Froze0 Foods'| 47.7402|         'OUT046'|                     1997|            'Tier 1'| 'Supermrket Type1']|                936.0|                   2.0|            3.0|                    7.0|                            4.0|                       2.0|              0.0|\n",
            "|        'NCL19'|        0.0|        'Low Ft'|    0.027447058|            'Others'| 142.347|         'OUT019'|                     1985|            'Tier 1'|    'Grocery Store']|                390.0|                   0.0|           13.0|                    9.0|                            0.0|                       5.0|              6.0|\n",
            "|        'FDX22'|      6.785|        'Regulr'|    0.038455125|        'S0ck Foods'|209.4928|         'OUT010'|                     1998|            'Tier 3'|    'Grocery Store']|                136.0|                   1.0|            0.0|                    8.0|                            8.0|                       0.0|              1.0|\n",
            "|        'NCF19'|       13.0|        'Low Ft'|    0.035102095|         'Household'| 47.6034|         'OUT035'|                     2004|            'Tier 2'| 'Supermrket Type1']|                380.0|                   0.0|            2.0|                    4.0|                            7.0|                       1.0|              0.0|\n",
            "|        'DRC27'|       13.8|        'Low Ft'|     0.05810247|              'Diry'|244.6802|         'OUT046'|                     1997|            'Tier 1'| 'Supermrket Type1']|                424.0|                   0.0|            4.0|                    7.0|                            4.0|                       2.0|              0.0|\n",
            "|        'NCR42'|        0.0|        'Low Ft'|     0.06737681|         'Household'|   32.09|         'OUT019'|                     1985|            'Tier 1'|    'Grocery Store']|                 48.0|                   0.0|            2.0|                    9.0|                            0.0|                       5.0|              6.0|\n",
            "|        'FDU59'|       5.78|        'Low Ft'|     0.09693143|             'Breds'|164.2552|         'OUT017'|                     2007|            'Tier 2'| 'Supermrket Type1']|                690.0|                   0.0|           10.0|                    6.0|                            2.0|                       1.0|              0.0|\n",
            "|        'FDR03'|        0.0|        'Regulr'|    0.008693632|               'Met'| 205.098|         'OUT027'|                     1985|            'Tier 3'| 'Supermrket Type3']|                109.0|                   1.0|            8.0|                    0.0|                            0.0|                       3.0|              5.0|\n",
            "|        'FDS49'|        0.0|        'Low Ft'|     0.07896128|             'C00ed'| 80.3644|         'OUT027'|                     1985|            'Tier 3'| 'Supermrket Type3']|                660.0|                   0.0|            6.0|                    0.0|                            0.0|                       3.0|              5.0|\n",
            "+---------------+-----------+----------------+---------------+--------------------+--------+-----------------+-------------------------+--------------------+--------------------+---------------------+----------------------+---------------+-----------------------+-------------------------------+--------------------------+-----------------+\n",
            "only showing top 20 rows\n",
            "\n"
          ]
        }
      ]
    },
    {
      "cell_type": "code",
      "source": [
        "from pyspark.ml.feature import VectorAssembler\n",
        "from pyspark.ml.feature import StandardScaler\n",
        "vectorAssembler = VectorAssembler(inputCols=features, outputCol=\"unscaled_features\")\n",
        "standardScaler = StandardScaler(inputCol=\"unscaled_features\", outputCol=\"features\")\n",
        "estimators = [vectorAssembler, standardScaler]\n",
        "pipeline = Pipeline(stages=estimators)\n",
        "data = pipeline.fit(data_test).transform(data_test)"
      ],
      "metadata": {
        "id": "eu_abHiw1YTF"
      },
      "execution_count": 34,
      "outputs": []
    },
    {
      "cell_type": "code",
      "source": [
        "data.show()"
      ],
      "metadata": {
        "colab": {
          "base_uri": "https://localhost:8080/"
        },
        "id": "r9ToJ2up6Ekw",
        "outputId": "8fad1562-b50b-4c0e-e47d-3328d1232972"
      },
      "execution_count": 35,
      "outputs": [
        {
          "output_type": "stream",
          "name": "stdout",
          "text": [
            "+---------------+-----------+----------------+---------------+--------------------+--------+-----------------+-------------------------+--------------------+--------------------+---------------------+----------------------+---------------+-----------------------+-------------------------------+--------------------------+-----------------+--------------------+--------------------+\n",
            "|Item_Identifier|Item_Weight|Item_Fat_Content|Item_Visibility|           Item_Type|Item_MRP|Outlet_Identifier|Outlet_Establishment_Year|Outlet_Location_Type|         Outlet_Type|Item_Identifier_index|Item_Fat_Content_index|Item_Type_index|Outlet_Identifier_index|Outlet_Establishment_Year_index|Outlet_Location_Type_index|Outlet_Type_index|   unscaled_features|            features|\n",
            "+---------------+-----------+----------------+---------------+--------------------+--------+-----------------+-------------------------+--------------------+--------------------+---------------------+----------------------+---------------+-----------------------+-------------------------------+--------------------------+-----------------+--------------------+--------------------+\n",
            "|        'FDY38'|        0.0|        'Regulr'|     0.11859931|              'Diry'|  234.23|         'OUT027'|                     1985|            'Tier 3'| 'Supermrket Type3']|                730.0|                   1.0|            4.0|                    0.0|                            0.0|                       3.0|              5.0|[730.0,0.0,1.0,0....|[1.74957807780796...|\n",
            "|        'FDH56'|        9.8|        'Regulr'|      0.0638172|'Fruits 0d Vegetb...|117.1492|         'OUT046'|                     1997|            'Tier 1'| 'Supermrket Type1']|                952.0|                   1.0|            1.0|                   10.0|                            4.0|                       5.0|              0.0|[952.0,9.80000019...|[2.28164154804546...|\n",
            "|        'FDC48'|        0.0|        'Low Ft'|    0.015782494|       'Bki0g Goods'| 81.0592|         'OUT027'|                     1985|            'Tier 3'| 'Supermrket Type3']|                202.0|                   0.0|            5.0|                    0.0|                            0.0|                       0.0|              4.0|(10,[0,3,4,5,9],[...|(10,[0,3,4,5,9],[...|\n",
            "|        'FDN33'|      6.305|        'Regulr'|     0.12336545|        'S0ck Foods'| 95.7436|         'OUT045'|                     2002|            'Tier 2'| 'Supermrket Type1']|                603.0|                   1.0|            0.0|                    3.0|                            5.0|                       1.0|              0.0|[603.0,6.30499982...|[1.44519942591534...|\n",
            "|        'FDQ56'|       6.59|        'Low Ft'|     0.10581147|'Fruits 0d Vegetb...| 85.3908|         'OUT045'|                     2002|            'Tier 2'| 'Supermrket Type1']|               1331.0|                   0.0|            1.0|                   15.0|                            5.0|                       4.0|              0.0|[1331.0,6.5900001...|[3.18998413912658...|\n",
            "|        'NCC54'|        0.0|        'Low Ft'|     0.17107922|  'Helth 0d Hygie0e'|240.4196|         'OUT019'|                     1985|            'Tier 1'|    'Grocery Store']|                755.0|                   0.0|            7.0|                    9.0|                            9.0|                       5.0|              1.0|[755.0,0.0,0.0,0....|[1.80949513526714...|\n",
            "|        'DRL59'|      16.75|            'LF'|    0.021206465|        'Hrd Dri0ks'| 52.0298|         'OUT013'|                     1987|            'Tier 3'| 'Supermrket Type1']|                 10.0|                   2.0|           11.0|                    1.0|                            1.0|                       0.0|              0.0|[10.0,16.75,2.0,0...|[0.02396682298367...|\n",
            "|        'FDM24'|      6.135|        'Regulr'|      0.0794507|       'Bki0g Goods'|151.6366|         'OUT049'|                     1999|            'Tier 1'| 'Supermrket Type1']|                592.0|                   1.0|            5.0|                    2.0|                            6.0|                       2.0|              0.0|[592.0,6.13500022...|[1.41883592063331...|\n",
            "|        'FDI57'|      19.85|        'Low Ft'|     0.05413521|            'Sefood'|198.7768|         'OUT045'|                     2002|            'Tier 2'| 'Supermrket Type1']|               1481.0|                   0.0|           15.0|                    3.0|                            5.0|                       1.0|              0.0|[1481.0,19.850000...|[3.54948648388164...|\n",
            "|        'FDA46'|       13.6|        'Low Ft'|     0.19689764|        'S0ck Foods'|193.7136|         'OUT010'|                     1998|            'Tier 3'|    'Grocery Store']|                877.0|                   0.0|            0.0|                    8.0|                            8.0|                       0.0|              1.0|[877.0,13.6000003...|[2.10189037566792...|\n",
            "|        'NCJ31'|       19.2|        'Low Ft'|     0.18261923|            'Others'|239.9196|         'OUT035'|                     2004|            'Tier 2'| 'Supermrket Type1']|                770.0|                   0.0|           13.0|                    4.0|                            7.0|                       1.0|              0.0|[770.0,19.2000007...|[1.84544536974265...|\n",
            "|        'FDG52'|      13.65|            'LF'|    0.065630846|      'Froze0 Foods'| 47.7402|         'OUT046'|                     1997|            'Tier 1'| 'Supermrket Type1']|                936.0|                   2.0|            3.0|                    7.0|                            4.0|                       2.0|              0.0|[936.0,13.6499996...|[2.24329463127158...|\n",
            "|        'NCL19'|        0.0|        'Low Ft'|    0.027447058|            'Others'| 142.347|         'OUT019'|                     1985|            'Tier 1'|    'Grocery Store']|                390.0|                   0.0|           13.0|                    9.0|                            0.0|                       5.0|              6.0|[390.0,0.0,0.0,0....|[0.93470609636316...|\n",
            "|        'FDX22'|      6.785|        'Regulr'|    0.038455125|        'S0ck Foods'|209.4928|         'OUT010'|                     1998|            'Tier 3'|    'Grocery Store']|                136.0|                   1.0|            0.0|                    8.0|                            8.0|                       0.0|              1.0|[136.0,6.78499984...|[0.32594879257792...|\n",
            "|        'NCF19'|       13.0|        'Low Ft'|    0.035102095|         'Household'| 47.6034|         'OUT035'|                     2004|            'Tier 2'| 'Supermrket Type1']|                380.0|                   0.0|            2.0|                    4.0|                            7.0|                       1.0|              0.0|[380.0,13.0,0.0,0...|[0.91073927337949...|\n",
            "|        'DRC27'|       13.8|        'Low Ft'|     0.05810247|              'Diry'|244.6802|         'OUT046'|                     1997|            'Tier 1'| 'Supermrket Type1']|                424.0|                   0.0|            4.0|                    7.0|                            4.0|                       2.0|              0.0|[424.0,13.8000001...|[1.01619329450764...|\n",
            "|        'NCR42'|        0.0|        'Low Ft'|     0.06737681|         'Household'|   32.09|         'OUT019'|                     1985|            'Tier 1'|    'Grocery Store']|                 48.0|                   0.0|            2.0|                    9.0|                            0.0|                       5.0|              6.0|[48.0,0.0,0.0,0.0...|[0.11504075032161...|\n",
            "|        'FDU59'|       5.78|        'Low Ft'|     0.09693143|             'Breds'|164.2552|         'OUT017'|                     2007|            'Tier 2'| 'Supermrket Type1']|                690.0|                   0.0|           10.0|                    6.0|                            2.0|                       1.0|              0.0|[690.0,5.78000020...|[1.65371078587328...|\n",
            "|        'FDR03'|        0.0|        'Regulr'|    0.008693632|               'Met'| 205.098|         'OUT027'|                     1985|            'Tier 3'| 'Supermrket Type3']|                109.0|                   1.0|            8.0|                    0.0|                            0.0|                       3.0|              5.0|[109.0,0.0,1.0,0....|[0.26123837052201...|\n",
            "|        'FDS49'|        0.0|        'Low Ft'|     0.07896128|             'C00ed'| 80.3644|         'OUT027'|                     1985|            'Tier 3'| 'Supermrket Type3']|                660.0|                   0.0|            6.0|                    0.0|                            0.0|                       3.0|              5.0|[660.0,0.0,0.0,0....|[1.58181031692227...|\n",
            "+---------------+-----------+----------------+---------------+--------------------+--------+-----------------+-------------------------+--------------------+--------------------+---------------------+----------------------+---------------+-----------------------+-------------------------------+--------------------------+-----------------+--------------------+--------------------+\n",
            "only showing top 20 rows\n",
            "\n"
          ]
        }
      ]
    },
    {
      "cell_type": "code",
      "source": [
        "pre=data.select('features')"
      ],
      "metadata": {
        "id": "As9f7AEt6MEP"
      },
      "execution_count": 36,
      "outputs": []
    },
    {
      "cell_type": "code",
      "source": [
        "y_pred = gbt.transform(pre)\n",
        "y_pred.show(10)"
      ],
      "metadata": {
        "colab": {
          "base_uri": "https://localhost:8080/"
        },
        "id": "hSr1Zm_X6Rz_",
        "outputId": "e6d75620-e7d2-41ee-b595-f6708a2f0560"
      },
      "execution_count": 37,
      "outputs": [
        {
          "output_type": "stream",
          "name": "stdout",
          "text": [
            "+--------------------+------------------+\n",
            "|            features|        prediction|\n",
            "+--------------------+------------------+\n",
            "|[1.74957807780796...| 5890.725905482789|\n",
            "|[2.28164154804546...|1968.3362803936118|\n",
            "|(10,[0,3,4,5,9],[...|1950.4277050613257|\n",
            "|[1.44519942591534...|1508.0891281155746|\n",
            "|[3.18998413912658...| 176.6071515943125|\n",
            "|[1.80949513526714...|5347.1812611350115|\n",
            "|[0.02396682298367...| 636.1047783023351|\n",
            "|[1.41883592063331...| 2629.212531829064|\n",
            "|[3.54948648388164...|3090.0549764366624|\n",
            "|[2.10189037566792...|3125.4402277810636|\n",
            "+--------------------+------------------+\n",
            "only showing top 10 rows\n",
            "\n"
          ]
        }
      ]
    },
    {
      "cell_type": "code",
      "source": [
        "gbt.write().overwrite().save('/content/drive/MyDrive/BT_KAFKA/GBTRegressor')\n",
        "lrr.write().overwrite().save( '/content/drive/MyDrive/BT_KAFKA/LinearRegression')\n",
        "dt.write().overwrite().save( '/content/drive/MyDrive/BT_KAFKA/DecisionTreeRegressor')"
      ],
      "metadata": {
        "id": "s5a3BRTDohVV"
      },
      "execution_count": 47,
      "outputs": []
    }
  ]
}